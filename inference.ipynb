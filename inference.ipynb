{
 "cells": [
  {
   "cell_type": "code",
   "execution_count": 12,
   "metadata": {},
   "outputs": [],
   "source": [
    "from utils import load_model\n",
    "import matplotlib.pyplot as plt"
   ]
  },
  {
   "cell_type": "code",
   "execution_count": 5,
   "metadata": {},
   "outputs": [],
   "source": [
    "import torch\n",
    "from torchvision import datasets, transforms"
   ]
  },
  {
   "cell_type": "code",
   "execution_count": 9,
   "metadata": {},
   "outputs": [],
   "source": [
    "from models import SimpleVAE\n",
    "\n",
    "VAE = SimpleVAE"
   ]
  },
  {
   "cell_type": "code",
   "execution_count": 10,
   "metadata": {},
   "outputs": [],
   "source": [
    "vae = load_model(\"simple_vae_model.mdl\")"
   ]
  },
  {
   "cell_type": "markdown",
   "metadata": {},
   "source": [
    "### Inference"
   ]
  },
  {
   "cell_type": "code",
   "execution_count": 18,
   "metadata": {},
   "outputs": [
    {
     "data": {
      "text/plain": [
       "<Figure size 640x480 with 0 Axes>"
      ]
     },
     "metadata": {},
     "output_type": "display_data"
    },
    {
     "data": {
      "image/png": "[encoded data removed]",
      "text/plain": [
       "<Figure size 640x480 with 2 Axes>"
      ]
     },
     "metadata": {},
     "output_type": "display_data"
    }
   ],
   "source": [
    "test_dataset = datasets.MNIST(root='./mnist_data/', train=False, transform=transforms.ToTensor(), download=False)\n",
    "inference_loader = torch.utils.data.DataLoader(dataset=test_dataset, batch_size=1, shuffle=False)\n",
    "\n",
    "def display_vae_imgs(x):\n",
    "    y = vae(x)\n",
    "    x = x.reshape([28,28,1])\n",
    "    y = y[0].reshape((28, 28, 1)).detach()\n",
    "    plt.figure()\n",
    "    f, axarr = plt.subplots(1,2) \n",
    "    axarr[0].imshow(x)\n",
    "    axarr[1].imshow(y)\n",
    "\n",
    "\n",
    "for i, (x, y) in enumerate(inference_loader):\n",
    "\n",
    "    if i>=3:\n",
    "        display_vae_imgs(x)\n",
    "        break\n"
   ]
  },
  {
   "cell_type": "markdown",
   "metadata": {},
   "source": [
    "### Generative"
   ]
  },
  {
   "cell_type": "code",
   "execution_count": 17,
   "metadata": {},
   "outputs": [
    {
     "data": {
      "text/plain": [
       "<matplotlib.image.AxesImage at 0x1674af5d0>"
      ]
     },
     "execution_count": 17,
     "metadata": {},
     "output_type": "execute_result"
    },
    {
     "data": {
      "text/plain": [
       "<Figure size 640x480 with 0 Axes>"
      ]
     },
     "metadata": {},
     "output_type": "display_data"
    },
    {
     "data": {
      "image/png": "[encoded data removed]",
      "text/plain": [
       "<Figure size 640x480 with 2 Axes>"
      ]
     },
     "metadata": {},
     "output_type": "display_data"
    }
   ],
   "source": [
    "plt.figure()\n",
    "f, axarr = plt.subplots(1,2) \n",
    "\n",
    "mu = torch.tensor([[1.4958, 1.4180]])\n",
    "log_var = torch.tensor([[-6.3008, -6.1549]])\n",
    "\n",
    "x_sample = vae.sampling(mu=mu, log_var=log_var)\n",
    "y = vae.decoder(x_sample).detach().reshape((28, 28, 1))\n",
    "\n",
    "axarr[0].imshow(y)\n",
    "\n",
    "mu = torch.tensor([[1.4, 1.6]])\n",
    "log_var = torch.tensor([[2.3008, 2.5]])\n",
    "\n",
    "x_sample = vae.sampling(mu=mu, log_var=log_var)\n",
    "\n",
    "y = vae.decoder(x_sample).detach().reshape((28, 28, 1))\n",
    "\n",
    "axarr[1].imshow(y)"
   ]
  },
  {
   "cell_type": "code",
   "execution_count": null,
   "metadata": {},
   "outputs": [],
   "source": []
  }
 ],
 "metadata": {
  "kernelspec": {
   "display_name": "base",
   "language": "python",
   "name": "python3"
  },
  "language_info": {
   "codemirror_mode": {
    "name": "ipython",
    "version": 3
   },
   "file_extension": ".py",
   "mimetype": "text/x-python",
   "name": "python",
   "nbconvert_exporter": "python",
   "pygments_lexer": "ipython3",
   "version": "3.11.5"
  }
 },
 "nbformat": 4,
 "nbformat_minor": 2
}
